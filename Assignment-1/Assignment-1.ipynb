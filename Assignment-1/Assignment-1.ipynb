{
 "cells": [
  {
   "cell_type": "code",
   "execution_count": 1,
   "metadata": {},
   "outputs": [],
   "source": [
    "# import sys\n",
    "# !{sys.executable} -m pip install -r requirements.txt"
   ]
  },
  {
   "cell_type": "code",
   "execution_count": 2,
   "metadata": {},
   "outputs": [
    {
     "name": "stderr",
     "output_type": "stream",
     "text": [
      "USER_AGENT environment variable not set, consider setting it to identify your requests.\n"
     ]
    }
   ],
   "source": [
    "import os\n",
    "import yfinance as yf\n",
    "from dotenv import load_dotenv\n",
    "from typing import List, TypedDict, Annotated\n",
    "import operator\n",
    "\n",
    "import mlflow\n",
    "from langgraph.graph import StateGraph, START, END\n",
    "\n",
    "from langchain_community.tools import DuckDuckGoSearchRun\n",
    "from langchain.output_parsers import PydanticOutputParser\n",
    "from langchain.prompts import PromptTemplate\n",
    "from langchain_community.tools.yahoo_finance_news import YahooFinanceNewsTool\n",
    "from langchain_openai import AzureChatOpenAI\n",
    "from pydantic import BaseModel, Field\n",
    "from typing import Dict, Any, List\n",
    "\n",
    "import json\n",
    "\n",
    "# --- Load Environment Variables ---\n",
    "#  .env file with Azure OpenAI credentials\n",
    "load_dotenv(\".env\")\n",
    "AZURE_OPENAI_KEY = os.getenv(\"AZURE_OPENAI_KEY\")\n",
    "AZURE_OPENAI_ENDPOINT = os.getenv(\"AZURE_OPENAI_ENDPOINT\")\n",
    "AZURE_OPENAI_DEPLOYMENT = os.getenv(\"AZURE_OPENAI_DEPLOYMENT\", \"gpt-4o\")\n",
    "AZURE_OPENAI_VERSION = os.getenv(\"OPENAI_API_VERSION\")\n"
   ]
  },
  {
   "cell_type": "code",
   "execution_count": 3,
   "metadata": {},
   "outputs": [],
   "source": [
    "\n",
    "# ---------------------------\n",
    "# Step 2: Get Stock Code\n",
    "# ---------------------------\n",
    "STOCK_CODE_MAP = {\n",
    "    \"Microsoft\": \"MSFT\",\n",
    "    \"Apple\": \"AAPL\",\n",
    "    \"Tesla\": \"TSLA\",\n",
    "    \"Google\": \"GOOGL\",\n",
    "    \"Amazon\": \"AMZN\",\n",
    "}\n",
    "\n",
    "def get_stock_code(company_name: str) -> str:\n",
    "    return STOCK_CODE_MAP.get(company_name, company_name)  # fallback = same string\n"
   ]
  },
  {
   "cell_type": "code",
   "execution_count": 4,
   "metadata": {},
   "outputs": [],
   "source": [
    "\n",
    "# ---------------------------\n",
    "# Step 3: Fetch Company News\n",
    "# ---------------------------\n",
    "def fetch_news_for_ticker(ticker: str, max_items: int = 5) -> List[str]:\n",
    "    try:\n",
    "        news_items = yf.Ticker(ticker).news[:max_items]\n",
    "        return [item.get('content','').get('title','') for item in news_items if item.get(\"content\")]\n",
    "    except Exception as e:\n",
    "        print(f\"[WARN] Could not fetch news for {ticker}: {e}\")\n",
    "        return []\n"
   ]
  },
  {
   "cell_type": "code",
   "execution_count": 5,
   "metadata": {},
   "outputs": [],
   "source": [
    "\n",
    "# ---------------------------\n",
    "# Pydantic schema\n",
    "# ---------------------------\n",
    "class SentimentProfile(BaseModel):\n",
    "    company_name: str = Field(..., description=\"Name of the company\")\n",
    "    stock_code: str = Field(..., description=\"Ticker symbol of the company\")\n",
    "    newsdesc: str = Field(..., description=\"Concise news description\")\n",
    "    sentiment: str = Field(..., description=\"Positive/Negative/Neutral\")\n",
    "    people_names: List[str] = []\n",
    "    places_names: List[str] = []\n",
    "    other_companies_referred: List[str] = []\n",
    "    related_industries: List[str] = []\n",
    "    market_implications: str = \"\"\n",
    "    confidence_score: float = Field(..., description=\"Confidence score between 0-1\")\n",
    "\n",
    "parser = PydanticOutputParser(pydantic_object=SentimentProfile)\n",
    "\n",
    "# ---------------------------\n",
    "# Step 4: Analyze Sentiment with GPT-4o / GPT-4o-mini\n",
    "# ---------------------------\n",
    "def build_parser_and_prompt():\n",
    "    template = \"\"\"\n",
    "    You are a financial analyst.\n",
    "    Based on the following news headlines about {company_name} ({stock_code}),\n",
    "    provide a structured sentiment analysis in JSON.\n",
    "\n",
    "    Headlines:\n",
    "    {news_items}\n",
    "\n",
    "    {format_instructions}\n",
    "    \"\"\"\n",
    "    return PromptTemplate(\n",
    "        template=template,\n",
    "        input_variables=[\"company_name\", \"stock_code\", \"news_items\"],\n",
    "        partial_variables={\"format_instructions\": parser.get_format_instructions()},\n",
    "    )\n"
   ]
  },
  {
   "cell_type": "code",
   "execution_count": 6,
   "metadata": {},
   "outputs": [],
   "source": [
    "mlflow.set_tracking_uri(\"file:///tmp/mlruns\")  # logs to local folder\n",
    "mlflow.set_experiment(\"market-sentiment-analyzer\")\n",
    "\n",
    "# ---------------------------\n",
    "# Pipeline\n",
    "# ---------------------------\n",
    "def run_pipeline(company_name: str) -> Dict[str, Any]:\n",
    "    with mlflow.start_run():\n",
    "        stock_code = get_stock_code(company_name)\n",
    "        news_items = fetch_news_for_ticker(stock_code)\n",
    "\n",
    "        news_blob = \"\\n\".join(f\"- {n}\" for n in news_items) if news_items else \"No recent news available.\"\n",
    "\n",
    "        prompt = build_parser_and_prompt()\n",
    "        \n",
    "        \n",
    "        llm = AzureChatOpenAI(\n",
    "        azure_deployment=os.getenv(\"AZURE_OPENAI_DEPLOYMENT\"),\n",
    "        openai_api_version=os.getenv(\"AZURE_OPENAI_API_VERSION\"),\n",
    "        openai_api_key=os.getenv(\"AZURE_OPENAI_API_KEY\"),\n",
    "        azure_endpoint=os.getenv(\"AZURE_OPENAI_ENDPOINT\"),\n",
    "        openai_api_type=os.getenv(\"OPENAI_API_TYPE\"),\n",
    "        temperature=0)\n",
    "\n",
    "\n",
    "        chain = prompt | llm | parser\n",
    "        result = chain.invoke({\n",
    "            \"company_name\": company_name,\n",
    "            \"stock_code\": stock_code,\n",
    "            \"news_items\": news_blob,\n",
    "        })\n",
    "\n",
    "        # Step 5: Integrate mlflow\n",
    "        mlflow.log_params({\"company_name\": company_name, \"stock_code\": stock_code})\n",
    "        mlflow.log_text(news_blob, \"news.txt\")\n",
    "        mlflow.log_dict(result.model_dump(), \"result.json\")\n",
    "\n",
    "        return result.model_dump()\n"
   ]
  },
  {
   "cell_type": "code",
   "execution_count": 7,
   "metadata": {},
   "outputs": [
    {
     "name": "stdout",
     "output_type": "stream",
     "text": [
      "{\n",
      "  \"company_name\": \"Microsoft\",\n",
      "  \"stock_code\": \"MSFT\",\n",
      "  \"newsdesc\": \"Microsoft has lower borrowing costs than the U.S., indicating strong financial health.\",\n",
      "  \"sentiment\": \"Positive\",\n",
      "  \"people_names\": [],\n",
      "  \"places_names\": [],\n",
      "  \"other_companies_referred\": [\n",
      "    \"Oracle\",\n",
      "    \"Meta Platforms\",\n",
      "    \"OpenAI\",\n",
      "    \"Costco\",\n",
      "    \"Rexford Industrial Realty\",\n",
      "    \"CoreWeave\"\n",
      "  ],\n",
      "  \"related_industries\": [\n",
      "    \"Cloud Computing\",\n",
      "    \"Technology\"\n",
      "  ],\n",
      "  \"market_implications\": \"Lower borrowing costs may enhance Microsoft's investment capacity and competitiveness in the tech industry.\",\n",
      "  \"confidence_score\": 0.85\n",
      "}\n"
     ]
    }
   ],
   "source": [
    "result = run_pipeline(\"Microsoft\")\n",
    "print(json.dumps(result, indent=2))"
   ]
  },
  {
   "cell_type": "code",
   "execution_count": null,
   "metadata": {},
   "outputs": [],
   "source": []
  }
 ],
 "metadata": {
  "kernelspec": {
   "display_name": ".venv",
   "language": "python",
   "name": "python3"
  },
  "language_info": {
   "codemirror_mode": {
    "name": "ipython",
    "version": 3
   },
   "file_extension": ".py",
   "mimetype": "text/x-python",
   "name": "python",
   "nbconvert_exporter": "python",
   "pygments_lexer": "ipython3",
   "version": "3.13.0"
  }
 },
 "nbformat": 4,
 "nbformat_minor": 2
}
